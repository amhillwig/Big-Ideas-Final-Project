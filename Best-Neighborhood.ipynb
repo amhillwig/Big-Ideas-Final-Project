{
 "cells": [
  {
   "cell_type": "markdown",
   "id": "b8d1ea37-7b10-4c35-9e11-980b1bc5ecbc",
   "metadata": {},
   "source": [
    "Intro\n",
    "Best Neighborhood in the eyes of a dog\n",
    "parks, dog licenses, sidewalks\n"
   ]
  },
  {
   "cell_type": "markdown",
   "id": "32b13213-757b-4457-bea4-77f2fd337cee",
   "metadata": {},
   "source": [
    "Metric"
   ]
  },
  {
   "cell_type": "markdown",
   "id": "81886f63-11d8-412e-8a1e-c8b75e97159e",
   "metadata": {},
   "source": [
    "Parks"
   ]
  },
  {
   "cell_type": "code",
   "execution_count": null,
   "id": "5bf69b48-5085-46fd-be00-eb6e54d5e211",
   "metadata": {},
   "outputs": [],
   "source": [
    "Licenses"
   ]
  },
  {
   "cell_type": "code",
   "execution_count": null,
   "id": "aa943a53-397b-4ff5-8b12-82127817a561",
   "metadata": {},
   "outputs": [],
   "source": [
    "Sidewalks"
   ]
  },
  {
   "cell_type": "code",
   "execution_count": null,
   "id": "707bd79f-f194-4bed-b788-c6e661cb22d2",
   "metadata": {},
   "outputs": [],
   "source": [
    "Conclusion"
   ]
  }
 ],
 "metadata": {
  "kernelspec": {
   "display_name": "Python 3 (ipykernel)",
   "language": "python",
   "name": "python3"
  },
  "language_info": {
   "codemirror_mode": {
    "name": "ipython",
    "version": 3
   },
   "file_extension": ".py",
   "mimetype": "text/x-python",
   "name": "python",
   "nbconvert_exporter": "python",
   "pygments_lexer": "ipython3",
   "version": "3.12.4"
  }
 },
 "nbformat": 4,
 "nbformat_minor": 5
}
