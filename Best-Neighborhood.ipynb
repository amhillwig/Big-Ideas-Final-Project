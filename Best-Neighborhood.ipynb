{
 "cells": [
  {
   "cell_type": "markdown",
   "id": "b8d1ea37-7b10-4c35-9e11-980b1bc5ecbc",
   "metadata": {},
   "source": [
    "# A Dog's Dream Neighborhood"
   ]
  },
  {
   "cell_type": "markdown",
   "id": "2b44302f-be07-49eb-8c73-77a0cfc3447c",
   "metadata": {},
   "source": [
    "### The Dog Walkers: \n",
    "- Kendra Go (kag432@pitt.edu)\n",
    "- Angelina Riveros (anr463@pitt.edu)\n",
    "- Alexia Hillwig (amh541@pitt.edu)"
   ]
  },
  {
   "cell_type": "markdown",
   "id": "32b13213-757b-4457-bea4-77f2fd337cee",
   "metadata": {},
   "source": [
    "### Metric\n",
    "Finding the best neighborhood in all of Pittsburgh is a difficult task when considering all of the complex variables of our needs and desires. We must consider our physical and mental health, accessibility to groceries, job opportunities, . All of this is just too complicated to keep in mind to find one answer. So, why don't we decide with the help of our more simple-minded companions: our dogs! \n",
    "Our canine companions were once our most loyal and helpful hunting buddies, so we should trust them once again for the hunt for the best neightborhood in Pittsburgh!"
   ]
  },
  {
   "cell_type": "markdown",
   "id": "81886f63-11d8-412e-8a1e-c8b75e97159e",
   "metadata": {},
   "source": [
    "## Parks"
   ]
  },
  {
   "cell_type": "markdown",
   "id": "70c0bacb-22f9-4c91-b9ec-b1cd4a4adf5c",
   "metadata": {},
   "source": [
    "## Dog Licenses\n",
    "https://data.wprdc.org/dataset/allegheny-county-dog-licenses\n",
    "\n",
    "\n",
    "\n",
    "This dataset keeps track of every dog licenses that is registered, keeping track of the type of dog, fur color, neuter/spay status and zipcode for each holder.\n",
    "Fellow dog owners is a great marker for the kind of neighborhood we're looking for. Not only does that mean there are plenty of other dogs to play with, but it also implies that these neighborhoods offer some ammenities or include facilities suitable for dogs. \n",
    "\n",
    "After importing pandas, we can take a peek at what the raw data looks like:"
   ]
  },
  {
   "cell_type": "code",
   "execution_count": 5,
   "id": "cd3d28fc-6588-4984-bdf9-edfa5c9d4265",
   "metadata": {},
   "outputs": [
    {
     "data": {
      "text/html": [
       "<div>\n",
       "<style scoped>\n",
       "    .dataframe tbody tr th:only-of-type {\n",
       "        vertical-align: middle;\n",
       "    }\n",
       "\n",
       "    .dataframe tbody tr th {\n",
       "        vertical-align: top;\n",
       "    }\n",
       "\n",
       "    .dataframe thead th {\n",
       "        text-align: right;\n",
       "    }\n",
       "</style>\n",
       "<table border=\"1\" class=\"dataframe\">\n",
       "  <thead>\n",
       "    <tr style=\"text-align: right;\">\n",
       "      <th></th>\n",
       "      <th>_id</th>\n",
       "      <th>LicenseType</th>\n",
       "      <th>Breed</th>\n",
       "      <th>Color</th>\n",
       "      <th>DogName</th>\n",
       "      <th>owner_zip</th>\n",
       "      <th>ExpYear</th>\n",
       "      <th>ValidDate</th>\n",
       "    </tr>\n",
       "  </thead>\n",
       "  <tbody>\n",
       "    <tr>\n",
       "      <th>0</th>\n",
       "      <td>4119028</td>\n",
       "      <td>Dog Individual Neutered Male</td>\n",
       "      <td>COCKAPOO</td>\n",
       "      <td>BROWN</td>\n",
       "      <td>CHARLEY</td>\n",
       "      <td>15236</td>\n",
       "      <td>2024</td>\n",
       "      <td>2023-12-05T12:14:29</td>\n",
       "    </tr>\n",
       "    <tr>\n",
       "      <th>1</th>\n",
       "      <td>4119029</td>\n",
       "      <td>Dog Individual Neutered Male</td>\n",
       "      <td>TAG</td>\n",
       "      <td>WHITE/BLACK/BROWN</td>\n",
       "      <td>BOOMER</td>\n",
       "      <td>15090</td>\n",
       "      <td>2024</td>\n",
       "      <td>2023-12-05T12:15:12</td>\n",
       "    </tr>\n",
       "    <tr>\n",
       "      <th>2</th>\n",
       "      <td>4119030</td>\n",
       "      <td>Dog Senior Citizen or Disability Spayed Female</td>\n",
       "      <td>GER SHEPHERD</td>\n",
       "      <td>WHITE</td>\n",
       "      <td>ELLIE</td>\n",
       "      <td>15238</td>\n",
       "      <td>2024</td>\n",
       "      <td>2023-12-05T12:18:37</td>\n",
       "    </tr>\n",
       "    <tr>\n",
       "      <th>3</th>\n",
       "      <td>4119031</td>\n",
       "      <td>Dog Individual Neutered Male</td>\n",
       "      <td>MALTESE</td>\n",
       "      <td>WHITE</td>\n",
       "      <td>FURBY</td>\n",
       "      <td>15243</td>\n",
       "      <td>2024</td>\n",
       "      <td>2023-12-05T12:35:22</td>\n",
       "    </tr>\n",
       "    <tr>\n",
       "      <th>4</th>\n",
       "      <td>4119032</td>\n",
       "      <td>Dog Individual Neutered Male</td>\n",
       "      <td>MALTESE</td>\n",
       "      <td>WHITE</td>\n",
       "      <td>GIZMO</td>\n",
       "      <td>15243</td>\n",
       "      <td>2024</td>\n",
       "      <td>2023-12-05T12:35:22</td>\n",
       "    </tr>\n",
       "    <tr>\n",
       "      <th>5</th>\n",
       "      <td>4119033</td>\n",
       "      <td>Dog Individual Neutered Male</td>\n",
       "      <td>MIXED</td>\n",
       "      <td>WHITE/TAN</td>\n",
       "      <td>HUGO</td>\n",
       "      <td>15241</td>\n",
       "      <td>2024</td>\n",
       "      <td>2023-12-05T12:41:12</td>\n",
       "    </tr>\n",
       "    <tr>\n",
       "      <th>6</th>\n",
       "      <td>4119034</td>\n",
       "      <td>Dog Individual Male</td>\n",
       "      <td>RAT TERRIER</td>\n",
       "      <td>BROWN</td>\n",
       "      <td>BANJO</td>\n",
       "      <td>15221</td>\n",
       "      <td>2024</td>\n",
       "      <td>2023-12-05T12:43:57</td>\n",
       "    </tr>\n",
       "    <tr>\n",
       "      <th>7</th>\n",
       "      <td>4119035</td>\n",
       "      <td>Dog Individual Neutered Male</td>\n",
       "      <td>SIB HUSKY MIX</td>\n",
       "      <td>WHITE/BROWN</td>\n",
       "      <td>BOLT</td>\n",
       "      <td>15209</td>\n",
       "      <td>2024</td>\n",
       "      <td>2023-12-05T13:25:39</td>\n",
       "    </tr>\n",
       "    <tr>\n",
       "      <th>8</th>\n",
       "      <td>4119036</td>\n",
       "      <td>Dog Individual Neutered Male</td>\n",
       "      <td>AM PIT BULL TERRIER</td>\n",
       "      <td>BLACK</td>\n",
       "      <td>JED WAYNE</td>\n",
       "      <td>15229</td>\n",
       "      <td>2024</td>\n",
       "      <td>2023-12-05T13:33:49</td>\n",
       "    </tr>\n",
       "    <tr>\n",
       "      <th>9</th>\n",
       "      <td>4119037</td>\n",
       "      <td>Dog Individual Neutered Male</td>\n",
       "      <td>AM STAFF TERRIER</td>\n",
       "      <td>WHITE/BLACK</td>\n",
       "      <td>SAMSON</td>\n",
       "      <td>15229</td>\n",
       "      <td>2024</td>\n",
       "      <td>2023-12-05T13:34:45</td>\n",
       "    </tr>\n",
       "  </tbody>\n",
       "</table>\n",
       "</div>"
      ],
      "text/plain": [
       "       _id                                     LicenseType  \\\n",
       "0  4119028                    Dog Individual Neutered Male   \n",
       "1  4119029                    Dog Individual Neutered Male   \n",
       "2  4119030  Dog Senior Citizen or Disability Spayed Female   \n",
       "3  4119031                    Dog Individual Neutered Male   \n",
       "4  4119032                    Dog Individual Neutered Male   \n",
       "5  4119033                    Dog Individual Neutered Male   \n",
       "6  4119034                             Dog Individual Male   \n",
       "7  4119035                    Dog Individual Neutered Male   \n",
       "8  4119036                    Dog Individual Neutered Male   \n",
       "9  4119037                    Dog Individual Neutered Male   \n",
       "\n",
       "                 Breed              Color    DogName  owner_zip  ExpYear  \\\n",
       "0             COCKAPOO              BROWN    CHARLEY      15236     2024   \n",
       "1                  TAG  WHITE/BLACK/BROWN     BOOMER      15090     2024   \n",
       "2         GER SHEPHERD              WHITE      ELLIE      15238     2024   \n",
       "3              MALTESE              WHITE      FURBY      15243     2024   \n",
       "4              MALTESE              WHITE      GIZMO      15243     2024   \n",
       "5                MIXED          WHITE/TAN       HUGO      15241     2024   \n",
       "6          RAT TERRIER              BROWN      BANJO      15221     2024   \n",
       "7        SIB HUSKY MIX        WHITE/BROWN       BOLT      15209     2024   \n",
       "8  AM PIT BULL TERRIER              BLACK  JED WAYNE      15229     2024   \n",
       "9     AM STAFF TERRIER        WHITE/BLACK     SAMSON      15229     2024   \n",
       "\n",
       "             ValidDate  \n",
       "0  2023-12-05T12:14:29  \n",
       "1  2023-12-05T12:15:12  \n",
       "2  2023-12-05T12:18:37  \n",
       "3  2023-12-05T12:35:22  \n",
       "4  2023-12-05T12:35:22  \n",
       "5  2023-12-05T12:41:12  \n",
       "6  2023-12-05T12:43:57  \n",
       "7  2023-12-05T13:25:39  \n",
       "8  2023-12-05T13:33:49  \n",
       "9  2023-12-05T13:34:45  "
      ]
     },
     "execution_count": 5,
     "metadata": {},
     "output_type": "execute_result"
    }
   ],
   "source": [
    "import pandas as pd\n",
    "import matplotlib.pyplot as plt\n",
    "\n",
    "lic = pd.read_csv(\"dog-licenses.csv\", sep=\",\")\n",
    "lic.head(10)"
   ]
  },
  {
   "cell_type": "markdown",
   "id": "e21cb569-59e3-42d9-8a3a-60078a56447f",
   "metadata": {},
   "source": [
    "\n",
    "##### With over 67,000 entries and 130 zipcodes in the dataset, lets narrow it down to those with the most registed licenses :\n"
   ]
  },
  {
   "cell_type": "code",
   "execution_count": 8,
   "id": "90032377-3db3-4497-8fc7-01d50d261923",
   "metadata": {},
   "outputs": [
    {
     "name": "stdout",
     "output_type": "stream",
     "text": [
      "owner_zip\n",
      "15237    2874\n",
      "15108    2845\n",
      "15044    2461\n",
      "15102    2400\n",
      "15235    2159\n",
      "15146    2063\n",
      "15236    1934\n",
      "15101    1932\n",
      "15239    1807\n",
      "15136    1621\n",
      "Name: count, dtype: int64\n"
     ]
    }
   ],
   "source": [
    "lic = pd.read_csv(\"dog-licenses.csv\", sep=\",\")\n",
    "best = lic['owner_zip'].value_counts().head(10)\n",
    "print(best)"
   ]
  },
  {
   "cell_type": "markdown",
   "id": "045356fd-7145-4861-8b55-d836cc3adb06",
   "metadata": {},
   "source": [
    "\n",
    "#### We've got some pretty strong leads, with the tope two have almost double the total registered in the 10th place zipcode. \n",
    "\n",
    "I don't feel right leaving it like this, however. I think that I can be narrowed down ever just a little bit more. I went through the liberty of removing just a few breeds. There are a few that I would avoid completely if I were a dog. This includes annoying dogs, some ugly dogs, prissy dogs, etc. **This is not objective -- I am very biased against dogs** "
   ]
  },
  {
   "cell_type": "code",
   "execution_count": 11,
   "id": "d7245cf7-5560-4056-bbec-b52bcd685905",
   "metadata": {},
   "outputs": [
    {
     "name": "stdout",
     "output_type": "stream",
     "text": [
      "owner_zip\n",
      "15237    2376\n",
      "15108    2312\n",
      "15044    2085\n",
      "15102    1979\n",
      "15235    1615\n",
      "15101    1609\n",
      "15146    1607\n",
      "15236    1560\n",
      "15239    1451\n",
      "15090    1353\n",
      "Name: count, dtype: int64\n"
     ]
    }
   ],
   "source": [
    "breeds_to_exclude = ['CHIHUAHUA', 'American Bully', 'ROTTWEILER MIX', 'YORKSHIRE TERRIER',  'AM PITT BULL MIX', 'PUG', 'BICHON FRISE', 'AM ESKIMO DOG',\n",
    "    'SCHNAUZER MIN', 'SHIH TZU', 'PUGGLE', 'SCHNOODLE', 'PUGGLE', 'PEKINGESE', 'POMERANIAN', 'MALTESE', 'BOSTON TERRIER', 'AM PIT BULL TERRIER', \n",
    "       'CHIHUAHUA MIX', 'SHIH TZU MIX', 'FRENCH BULLDOG', 'BOXER']\n",
    "\n",
    "filtered_lic = lic[~lic['Breed'].isin(breeds_to_exclude)]\n",
    "filt_best = filtered_lic['owner_zip'].value_counts().head(10)\n",
    "print(filt_best)"
   ]
  },
  {
   "cell_type": "code",
   "execution_count": null,
   "id": "13838f5e-ad92-4d4f-a781-dad0d330468c",
   "metadata": {},
   "outputs": [],
   "source": [
    "import matplotlib.pyplot as plt\n",
    "\n",
    "best_dict = {\"McKnight\": 2874, \"Moon Township\": 2845, \"Gibsonia\": 2461, \"Bethel Park\": 2400,\"Penn Hills\": 2158,  \"Monroeville\": 2063, \n",
    "             \"West Mifflin\": 1934, \"Allison Park\": 1932, \"Plum\": 1807, \"McKees Rocks\": 1621}\n",
    "\n",
    "filt_best_dict = {\"McKnight\": 2320, \"Moon Township\": 2265, \"Gibsonia\": 2037, \"Bethel Park\": 1955,\"Allison Park\": 1577,  \"Penn Hills\": 1572, \n",
    "             \"Monroeville\": 1560, \"West Mifflin\": 1517, \"Plum\": 1423, \"Wexford\": 1326}\n",
    "compare = pd.DataFrame({'Old Top 10': best_dict, 'New Top 10': filt_best_dict})\n",
    "plt.figure(figsize=(14, 6))\n",
    "compare.plot(kind='bar', alpha=0.7, width=0.8)\n",
    "\n",
    "plt.show()"
   ]
  },
  {
   "cell_type": "markdown",
   "id": "b47d80f8-59e7-45c0-a1dd-21121006fbf2",
   "metadata": {},
   "source": [
    "## Sub-Conclusion\n",
    "\n",
    "The neighborhoods of the McKnight and Moon Township areas are top two choices, holding the greatest number of registered dog licenses, even after the attempts to discriminate against certain breeds. "
   ]
  },
  {
   "cell_type": "code",
   "execution_count": null,
   "id": "aa943a53-397b-4ff5-8b12-82127817a561",
   "metadata": {},
   "outputs": [],
   "source": [
    "Sidewalks"
   ]
  },
  {
   "cell_type": "code",
   "execution_count": null,
   "id": "707bd79f-f194-4bed-b788-c6e661cb22d2",
   "metadata": {},
   "outputs": [],
   "source": [
    "Conclusion"
   ]
  }
 ],
 "metadata": {
  "kernelspec": {
   "display_name": "Python 3 (ipykernel)",
   "language": "python",
   "name": "python3"
  },
  "language_info": {
   "codemirror_mode": {
    "name": "ipython",
    "version": 3
   },
   "file_extension": ".py",
   "mimetype": "text/x-python",
   "name": "python",
   "nbconvert_exporter": "python",
   "pygments_lexer": "ipython3",
   "version": "3.12.4"
  }
 },
 "nbformat": 4,
 "nbformat_minor": 5
}
