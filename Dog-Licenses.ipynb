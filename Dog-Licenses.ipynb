{
 "cells": [
  {
   "cell_type": "markdown",
   "id": "ca37ba73-39ec-4400-b962-48ab0e7c2566",
   "metadata": {},
   "source": [
    "## Dog Licenses\n",
    "https://data.wprdc.org/dataset/allegheny-county-dog-licenses\n",
    "\n",
    "\n",
    "\n",
    "This dataset keeps track of every dog licenses that is registered, keeping track of the type of dog, fur color, neuter/spay status and zipcode for each holder.\n",
    "Fellow dog owners is a great marker for the kind of neighborhood we're looking for. Not only does that mean there are plenty of other dogs to play with, but it also implies that these neighborhoods offer some ammenities or include facilities suitable for dogs. \n",
    "\n",
    "After importing pandas, we can take a peek at what the raw data looks like:"
   ]
  },
  {
   "cell_type": "code",
   "execution_count": 26,
   "id": "fff9dab4-9c3a-41e1-9339-88489b54ee44",
   "metadata": {},
   "outputs": [
    {
     "data": {
      "text/html": [
       "<div>\n",
       "<style scoped>\n",
       "    .dataframe tbody tr th:only-of-type {\n",
       "        vertical-align: middle;\n",
       "    }\n",
       "\n",
       "    .dataframe tbody tr th {\n",
       "        vertical-align: top;\n",
       "    }\n",
       "\n",
       "    .dataframe thead th {\n",
       "        text-align: right;\n",
       "    }\n",
       "</style>\n",
       "<table border=\"1\" class=\"dataframe\">\n",
       "  <thead>\n",
       "    <tr style=\"text-align: right;\">\n",
       "      <th></th>\n",
       "      <th>_id</th>\n",
       "      <th>LicenseType</th>\n",
       "      <th>Breed</th>\n",
       "      <th>Color</th>\n",
       "      <th>DogName</th>\n",
       "      <th>owner_zip</th>\n",
       "      <th>ExpYear</th>\n",
       "      <th>ValidDate</th>\n",
       "    </tr>\n",
       "  </thead>\n",
       "  <tbody>\n",
       "    <tr>\n",
       "      <th>0</th>\n",
       "      <td>4119028</td>\n",
       "      <td>Dog Individual Neutered Male</td>\n",
       "      <td>COCKAPOO</td>\n",
       "      <td>BROWN</td>\n",
       "      <td>CHARLEY</td>\n",
       "      <td>15236</td>\n",
       "      <td>2024</td>\n",
       "      <td>2023-12-05T12:14:29</td>\n",
       "    </tr>\n",
       "    <tr>\n",
       "      <th>1</th>\n",
       "      <td>4119029</td>\n",
       "      <td>Dog Individual Neutered Male</td>\n",
       "      <td>TAG</td>\n",
       "      <td>WHITE/BLACK/BROWN</td>\n",
       "      <td>BOOMER</td>\n",
       "      <td>15090</td>\n",
       "      <td>2024</td>\n",
       "      <td>2023-12-05T12:15:12</td>\n",
       "    </tr>\n",
       "    <tr>\n",
       "      <th>2</th>\n",
       "      <td>4119030</td>\n",
       "      <td>Dog Senior Citizen or Disability Spayed Female</td>\n",
       "      <td>GER SHEPHERD</td>\n",
       "      <td>WHITE</td>\n",
       "      <td>ELLIE</td>\n",
       "      <td>15238</td>\n",
       "      <td>2024</td>\n",
       "      <td>2023-12-05T12:18:37</td>\n",
       "    </tr>\n",
       "    <tr>\n",
       "      <th>3</th>\n",
       "      <td>4119031</td>\n",
       "      <td>Dog Individual Neutered Male</td>\n",
       "      <td>MALTESE</td>\n",
       "      <td>WHITE</td>\n",
       "      <td>FURBY</td>\n",
       "      <td>15243</td>\n",
       "      <td>2024</td>\n",
       "      <td>2023-12-05T12:35:22</td>\n",
       "    </tr>\n",
       "    <tr>\n",
       "      <th>4</th>\n",
       "      <td>4119032</td>\n",
       "      <td>Dog Individual Neutered Male</td>\n",
       "      <td>MALTESE</td>\n",
       "      <td>WHITE</td>\n",
       "      <td>GIZMO</td>\n",
       "      <td>15243</td>\n",
       "      <td>2024</td>\n",
       "      <td>2023-12-05T12:35:22</td>\n",
       "    </tr>\n",
       "    <tr>\n",
       "      <th>5</th>\n",
       "      <td>4119033</td>\n",
       "      <td>Dog Individual Neutered Male</td>\n",
       "      <td>MIXED</td>\n",
       "      <td>WHITE/TAN</td>\n",
       "      <td>HUGO</td>\n",
       "      <td>15241</td>\n",
       "      <td>2024</td>\n",
       "      <td>2023-12-05T12:41:12</td>\n",
       "    </tr>\n",
       "    <tr>\n",
       "      <th>6</th>\n",
       "      <td>4119034</td>\n",
       "      <td>Dog Individual Male</td>\n",
       "      <td>RAT TERRIER</td>\n",
       "      <td>BROWN</td>\n",
       "      <td>BANJO</td>\n",
       "      <td>15221</td>\n",
       "      <td>2024</td>\n",
       "      <td>2023-12-05T12:43:57</td>\n",
       "    </tr>\n",
       "    <tr>\n",
       "      <th>7</th>\n",
       "      <td>4119035</td>\n",
       "      <td>Dog Individual Neutered Male</td>\n",
       "      <td>SIB HUSKY MIX</td>\n",
       "      <td>WHITE/BROWN</td>\n",
       "      <td>BOLT</td>\n",
       "      <td>15209</td>\n",
       "      <td>2024</td>\n",
       "      <td>2023-12-05T13:25:39</td>\n",
       "    </tr>\n",
       "    <tr>\n",
       "      <th>8</th>\n",
       "      <td>4119036</td>\n",
       "      <td>Dog Individual Neutered Male</td>\n",
       "      <td>AM PIT BULL TERRIER</td>\n",
       "      <td>BLACK</td>\n",
       "      <td>JED WAYNE</td>\n",
       "      <td>15229</td>\n",
       "      <td>2024</td>\n",
       "      <td>2023-12-05T13:33:49</td>\n",
       "    </tr>\n",
       "    <tr>\n",
       "      <th>9</th>\n",
       "      <td>4119037</td>\n",
       "      <td>Dog Individual Neutered Male</td>\n",
       "      <td>AM STAFF TERRIER</td>\n",
       "      <td>WHITE/BLACK</td>\n",
       "      <td>SAMSON</td>\n",
       "      <td>15229</td>\n",
       "      <td>2024</td>\n",
       "      <td>2023-12-05T13:34:45</td>\n",
       "    </tr>\n",
       "  </tbody>\n",
       "</table>\n",
       "</div>"
      ],
      "text/plain": [
       "       _id                                     LicenseType  \\\n",
       "0  4119028                    Dog Individual Neutered Male   \n",
       "1  4119029                    Dog Individual Neutered Male   \n",
       "2  4119030  Dog Senior Citizen or Disability Spayed Female   \n",
       "3  4119031                    Dog Individual Neutered Male   \n",
       "4  4119032                    Dog Individual Neutered Male   \n",
       "5  4119033                    Dog Individual Neutered Male   \n",
       "6  4119034                             Dog Individual Male   \n",
       "7  4119035                    Dog Individual Neutered Male   \n",
       "8  4119036                    Dog Individual Neutered Male   \n",
       "9  4119037                    Dog Individual Neutered Male   \n",
       "\n",
       "                 Breed              Color    DogName  owner_zip  ExpYear  \\\n",
       "0             COCKAPOO              BROWN    CHARLEY      15236     2024   \n",
       "1                  TAG  WHITE/BLACK/BROWN     BOOMER      15090     2024   \n",
       "2         GER SHEPHERD              WHITE      ELLIE      15238     2024   \n",
       "3              MALTESE              WHITE      FURBY      15243     2024   \n",
       "4              MALTESE              WHITE      GIZMO      15243     2024   \n",
       "5                MIXED          WHITE/TAN       HUGO      15241     2024   \n",
       "6          RAT TERRIER              BROWN      BANJO      15221     2024   \n",
       "7        SIB HUSKY MIX        WHITE/BROWN       BOLT      15209     2024   \n",
       "8  AM PIT BULL TERRIER              BLACK  JED WAYNE      15229     2024   \n",
       "9     AM STAFF TERRIER        WHITE/BLACK     SAMSON      15229     2024   \n",
       "\n",
       "             ValidDate  \n",
       "0  2023-12-05T12:14:29  \n",
       "1  2023-12-05T12:15:12  \n",
       "2  2023-12-05T12:18:37  \n",
       "3  2023-12-05T12:35:22  \n",
       "4  2023-12-05T12:35:22  \n",
       "5  2023-12-05T12:41:12  \n",
       "6  2023-12-05T12:43:57  \n",
       "7  2023-12-05T13:25:39  \n",
       "8  2023-12-05T13:33:49  \n",
       "9  2023-12-05T13:34:45  "
      ]
     },
     "execution_count": 26,
     "metadata": {},
     "output_type": "execute_result"
    }
   ],
   "source": [
    "import pandas as pd\n",
    "\n",
    "lic = pd.read_csv(\"dog-licenses.csv\", sep=\",\")\n",
    "lic.head(10)"
   ]
  },
  {
   "cell_type": "markdown",
   "id": "b5d46402-a9c8-4ac6-942f-8e91b72a95f4",
   "metadata": {},
   "source": [
    "\n",
    "##### With over 67,000 entries and 130 zipcodes in the dataset, lets narrow it down to those with the most registed licenses :\n"
   ]
  },
  {
   "cell_type": "code",
   "execution_count": 30,
   "id": "237fe913-66f4-4edf-a320-7af42a83fdb1",
   "metadata": {},
   "outputs": [
    {
     "name": "stdout",
     "output_type": "stream",
     "text": [
      "owner_zip\n",
      "15237    2874\n",
      "15108    2845\n",
      "15044    2461\n",
      "15102    2400\n",
      "15235    2159\n",
      "15146    2063\n",
      "15236    1934\n",
      "15101    1932\n",
      "15239    1807\n",
      "15136    1621\n",
      "Name: count, dtype: int64\n"
     ]
    }
   ],
   "source": [
    "lic = pd.read_csv(\"dog-licenses.csv\", sep=\",\")\n",
    "best = lic['owner_zip'].value_counts().head(10)\n",
    "print(best)"
   ]
  },
  {
   "cell_type": "markdown",
   "id": "3184c085-bb4f-48be-87bc-60d39a36b7fa",
   "metadata": {},
   "source": [
    "\n",
    "#### We've got some pretty strong leads, with the tope two have almost double the total registered in the 10th place zipcode. \n",
    "\n",
    "I don't feel right leaving it like this, however. I think that I can be narrowed down ever just a little bit more. I went through the liberty of removing just a few breeds. There are a few that I would avoid completely if I were a dog. This includes annoying dogs, some ugly dogs, prissy dogs, etc. **This is not objective -- I am very biased against dogs** "
   ]
  },
  {
   "cell_type": "code",
   "execution_count": 89,
   "id": "1ec5e9f8-6c06-4130-916c-27363b69ba01",
   "metadata": {},
   "outputs": [
    {
     "name": "stdout",
     "output_type": "stream",
     "text": [
      "owner_zip\n",
      "15237    2320\n",
      "15108    2265\n",
      "15044    2037\n",
      "15102    1955\n",
      "15101    1577\n",
      "15235    1572\n",
      "15146    1560\n",
      "15236    1517\n",
      "15239    1423\n",
      "15090    1326\n",
      "Name: count, dtype: int64\n"
     ]
    }
   ],
   "source": [
    "\n",
    "#print(lic['Breed'].unique())\n",
    "breeds_to_exclude = ['CHIHUAHUA', 'American Bully', 'ROTTWEILER MIX', 'YORKSHIRE TERRIER',  'AM PITT BULL MIX', 'PUG', 'BICHON FRISE', 'AM ESKIMO DOG',\n",
    "    'SCHNAUZER MIN', 'SHIH TZU', 'PUGGLE', 'SCHNOODLE', 'PUGGLE', 'PEKINGESE', 'POMERANIAN', 'MALTESE', 'BOSTON TERRIER', 'AM PIT BULL TERRIER', \n",
    "       'CHIHUAHUA MIX', 'SHIH TZU MIX', 'FRENCH BULLDOG', 'BOXER', 'DACHSHUND']\n",
    "\n",
    "filtered_lic = lic[~lic['Breed'].isin(breeds_to_exclude)]\n",
    "filt_best = filtered_lic['owner_zip'].value_counts().head(10)\n",
    "print(filt_best)"
   ]
  },
  {
   "cell_type": "markdown",
   "id": "5750d80a-d2d5-425f-922b-f3e356df1e72",
   "metadata": {},
   "source": [
    "\n",
    "While the top four results for these two data pulls weren't affected by the exclusions, there are some notable changes otherwise. Neighborhoods like Allison shot up in the rankings and the last place entry encludes two distict neighborhoods not included in the other. \n",
    "\n",
    "Heres a visual representation"
   ]
  },
  {
   "cell_type": "code",
   "execution_count": 91,
   "id": "32402599-b962-4134-8fbd-8916a1bd98d5",
   "metadata": {},
   "outputs": [
    {
     "data": {
      "text/plain": [
       "<Figure size 1400x600 with 0 Axes>"
      ]
     },
     "metadata": {},
     "output_type": "display_data"
    },
    {
     "data": {
      "image/png": "[encoded data removed]",
      "text/plain": [
       "<Figure size 640x480 with 1 Axes>"
      ]
     },
     "metadata": {},
     "output_type": "display_data"
    }
   ],
   "source": [
    "import matplotlib.pyplot as plt\n",
    "\n",
    "best_dict = {\"McKnight\": 2874, \"Moon Township\": 2845, \"Gibsonia\": 2461, \"Bethel Park\": 2400,\"Penn Hills\": 2158,  \"Monroeville\": 2063, \n",
    "             \"West Mifflin\": 1934, \"Allison Park\": 1932, \"Plum\": 1807, \"McKees Rocks\": 1621}\n",
    "\n",
    "filt_best_dict = {\"McKnight\": 2320, \"Moon Township\": 2265, \"Gibsonia\": 2037, \"Bethel Park\": 1955,\"Allison Park\": 1577,  \"Penn Hills\": 1572, \n",
    "             \"Monroeville\": 1560, \"West Mifflin\": 1517, \"Plum\": 1423, \"Wexford\": 1326}\n",
    "compare = pd.DataFrame({'Old Top 10': best_dict, 'New Top 10': filt_best_dict})\n",
    "plt.figure(figsize=(14, 6))\n",
    "compare.plot(kind='bar', alpha=0.7, width=0.8)\n",
    "\n",
    "plt.show()"
   ]
  },
  {
   "cell_type": "markdown",
   "id": "908babb8-e647-43b3-8d68-76a7347124a0",
   "metadata": {},
   "source": [
    "## Sub-Conclusion\n",
    "\n",
    "The neighborhoods of the McKnight and Moon Township areas are top two choices, holding the greatest number of registered dog licenses, even after the attempts to discriminate against certain breeds. "
   ]
  },
  {
   "cell_type": "code",
   "execution_count": null,
   "id": "e954c8df-9012-495b-a91c-3cd38c348214",
   "metadata": {},
   "outputs": [],
   "source": []
  }
 ],
 "metadata": {
  "kernelspec": {
   "display_name": "Python 3 (ipykernel)",
   "language": "python",
   "name": "python3"
  },
  "language_info": {
   "codemirror_mode": {
    "name": "ipython",
    "version": 3
   },
   "file_extension": ".py",
   "mimetype": "text/x-python",
   "name": "python",
   "nbconvert_exporter": "python",
   "pygments_lexer": "ipython3",
   "version": "3.12.4"
  }
 },
 "nbformat": 4,
 "nbformat_minor": 5
}
